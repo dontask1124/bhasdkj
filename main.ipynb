{
 "cells": [
  {
   "cell_type": "code",
   "execution_count": 1,
   "metadata": {},
   "outputs": [
    {
     "name": "stdout",
     "output_type": "stream",
     "text": [
      "-- Import library --\n"
     ]
    }
   ],
   "source": [
    "\n",
    "from selenium import webdriver\n",
    "from selenium.webdriver.common.keys import Keys\n",
    "from bs4 import BeautifulSoup\n",
    "from time import sleep\n",
    "import csv\n",
    "from selenium.webdriver.chrome.service import Service\n",
    "from webdriver_manager.chrome import ChromeDriverManager\n",
    "from selenium.webdriver.common.by import By\n",
    "import pandas as pd\n",
    "import openpyxl\n",
    "from selenium.webdriver.support.ui import Select\n",
    "\n",
    "\n",
    "print(\"-- Import library --\")"
   ]
  },
  {
   "cell_type": "code",
   "execution_count": 2,
   "metadata": {},
   "outputs": [
    {
     "name": "stderr",
     "output_type": "stream",
     "text": [
      "C:\\Users\\TXB\\AppData\\Local\\Temp\\ipykernel_3528\\1618664032.py:1: DeprecationWarning: executable_path has been deprecated, please pass in a Service object\n",
      "  driver = webdriver.Chrome(\"C:\\webdrivers\\chromedriver.exe\")\n"
     ]
    },
    {
     "name": "stdout",
     "output_type": "stream",
     "text": [
      "-- Finish initializing a driver--\n"
     ]
    }
   ],
   "source": [
    "driver = webdriver.Chrome(\"C:\\webdrivers\\chromedriver.exe\")\n",
    "url = 'https://online.hcmute.edu.vn/'\n",
    "driver.get(url)\n",
    "print('-- Finish initializing a driver--')\n",
    "\n"
   ]
  },
  {
   "cell_type": "code",
   "execution_count": 3,
   "metadata": {},
   "outputs": [
    {
     "name": "stdout",
     "output_type": "stream",
     "text": [
      "-- Complete login to page --\n"
     ]
    }
   ],
   "source": [
    "driver.find_element(By.ID,\"ctl00_lbtDangnhap\").click()\n",
    "driver.find_element(By.XPATH,\"/html/body/div/form/table/tbody/tr[5]/td/table/tbody/tr[1]/td[2]/table/tbody/tr/td/table/tbody/tr[4]/td/table/tbody/tr[1]/td[2]/input\").send_keys(\"20124038\")\n",
    "driver.find_element(By.XPATH,\"/html/body/div/form/table/tbody/tr[5]/td/table/tbody/tr[1]/td[2]/table/tbody/tr/td/table/tbody/tr[4]/td/table/tbody/tr[2]/td[2]/input\").send_keys(\"229812\")\n",
    "driver.find_element(By.XPATH, \"/html/body/div/form/table/tbody/tr[5]/td/table/tbody/tr[1]/td[2]/table/tbody/tr/td/table/tbody/tr[4]/td/table/tbody/tr[4]/td/table/tbody/tr/td[2]/input\").click()\n",
    "driver.find_element(By.ID,\"ctl00_ContentPlaceHolder1_ctl00_ctl00_lnkThoiKhoaBieu\").click()\n",
    "print(\"-- Complete login to page --\")"
   ]
  },
  {
   "cell_type": "code",
   "execution_count": 4,
   "metadata": {},
   "outputs": [
    {
     "name": "stdout",
     "output_type": "stream",
     "text": [
      "-- Complete take the page source -- \n"
     ]
    }
   ],
   "source": [
    "page_source =BeautifulSoup(driver.page_source,\"html.parser\")\n",
    "info_table = page_source.find('table', class_ = \"Scheduled_table_dl\")\n",
    "print(\"-- Complete take the page source -- \")"
   ]
  },
  {
   "cell_type": "code",
   "execution_count": 5,
   "metadata": {},
   "outputs": [
    {
     "name": "stdout",
     "output_type": "stream",
     "text": [
      "['2020-2021', '2021-2022', '2022-2023', '2023-2024', '2024-2025', '2025-2026', '2026-2027', '2027-2028']\n",
      "['Học kỳ 1', 'Học kỳ 2', 'Học kỳ 3']\n",
      "['1', '2', '3', '4', '5', '6', '7', '8', '9', '10', '11', '12', '13', '14', '15', '16', '17', '18', '19', '20']\n"
     ]
    }
   ],
   "source": [
    "find_list_nam_hoc = driver.find_element(By.XPATH, \"/html/body/div/form/table/tbody/tr[5]/td/table/tbody/tr[1]/td[2]/table/tbody/tr/td[3]/table[2]/tbody/tr/td/table/tbody/tr[1]/td/table/tbody/tr[3]/td[1]/select[1]\").find_elements(By.TAG_NAME, \"option\")\n",
    "find_list_hoc_ky = driver.find_element(By.XPATH,\"/html/body/div/form/table/tbody/tr[5]/td/table/tbody/tr[1]/td[2]/table/tbody/tr/td[3]/table[2]/tbody/tr/td/table/tbody/tr[1]/td/table/tbody/tr[3]/td[1]/select[2]\").find_elements(By.TAG_NAME,\"option\")\n",
    "find_list_tuan_hoc = driver.find_element(By.XPATH, \"/html/body/div/form/table/tbody/tr[5]/td/table/tbody/tr[1]/td[2]/table/tbody/tr/td[3]/table[2]/tbody/tr/td/table/tbody/tr[1]/td/table/tbody/tr[5]/td/select\").find_elements(By.TAG_NAME, \"option\")\n",
    "\n",
    "\n",
    "list_nam_hoc = [i.text for i in find_list_nam_hoc]\n",
    "list_hoc_ky = [i.text for i in find_list_hoc_ky]\n",
    "list_tuan_hoc = [i.text for i in find_list_tuan_hoc]\n",
    "\n",
    "print(list_nam_hoc)\n",
    "print(list_hoc_ky)\n",
    "print(list_tuan_hoc)\n",
    "\n"
   ]
  },
  {
   "cell_type": "code",
   "execution_count": null,
   "metadata": {},
   "outputs": [],
   "source": [
    "\n",
    "with open(\"thong_tin_SV_TIME_TABLE.csv\", \"w\") as file_info:\n",
    "    writer = csv.writer(file_info, delimiter=\",\")\n",
    "    writer.writelines()"
   ]
  },
  {
   "cell_type": "code",
   "execution_count": 117,
   "metadata": {},
   "outputs": [
    {
     "data": {
      "text/plain": [
       "'Học kỳ 1'"
      ]
     },
     "execution_count": 117,
     "metadata": {},
     "output_type": "execute_result"
    }
   ],
   "source": [
    "ten_MSSV = driver.find_element(By.CLASS_NAME,\"StudentInfoDetails_normal_dl\").text\n",
    "nam_hoc = Select(driver.find_element(By.XPATH,\"/html/body/div/form/table/tbody/tr[5]/td/table/tbody/tr[1]/td[2]/table/tbody/tr/td[3]/table[2]/tbody/tr/td/table/tbody/tr[1]/td/table/tbody/tr[3]/td[1]/select[1]\")).first_selected_option.text\n",
    "hoc_ky = Select(driver.find_element(By.XPATH,\"/html/body/div/form/table/tbody/tr[5]/td/table/tbody/tr[1]/td[2]/table/tbody/tr/td[3]/table[2]/tbody/tr/td/table/tbody/tr[1]/td/table/tbody/tr[3]/td[1]/select[2]\" )).first_selected_option.text\n",
    "hoc_ky"
   ]
  },
  {
   "cell_type": "code",
   "execution_count": 67,
   "metadata": {},
   "outputs": [],
   "source": [
    "\n",
    "\n",
    "info_tr = page_source.find_all(\"td\",{'class':\"Schedule_tabledetails_td\"})\n",
    "count = 0\n",
    "thoi_khoa_bieu = []\n",
    "count_thu = [i*7 for i in range(9) ]\n",
    "count_thu.pop(0)\n",
    "thu_hoc = []\n",
    "for i in info_tr:\n",
    "    mon_hoc = i.get_text()\n",
    "    if count in count_thu:\n",
    "        thoi_khoa_bieu.append(thu_hoc)\n",
    "        thu_hoc = []\n",
    "        \n",
    "        \n",
    "    if count < count_thu[0]:\n",
    "        if len(mon_hoc) >  2:\n",
    "            thu_hoc.append(mon_hoc)\n",
    "            count += 1\n",
    "            continue\n",
    "        elif len(mon_hoc) <3:\n",
    "            thu_hoc.append(0)\n",
    "            count   += 1\n",
    "            continue\n",
    "    elif count < count_thu[1]  and count >= count_thu[0]  :\n",
    "        if len(mon_hoc) > 2:\n",
    "            thu_hoc.append(mon_hoc)\n",
    "            count +=1\n",
    "        elif len(mon_hoc) <3:\n",
    "            thu_hoc.append(0)\n",
    "            count += 1\n",
    "    \n",
    "    elif count < count_thu[2]  and count >=count_thu[1]  :\n",
    "        if len(mon_hoc) > 2:\n",
    "            thu_hoc.append(mon_hoc)\n",
    "            count +=1\n",
    "            continue\n",
    "        elif len(mon_hoc) <3:\n",
    "            thu_hoc.append(0)\n",
    "            count += 1\n",
    "            continue\n",
    "    elif count < count_thu[3] and count >= count_thu[2]  :\n",
    "        if len(mon_hoc) > 2:\n",
    "            thu_hoc.append(mon_hoc)\n",
    "            count +=1\n",
    "            continue\n",
    "        elif len(mon_hoc) <3:\n",
    "            thu_hoc.append(0)\n",
    "            count += 1\n",
    "            continue\n",
    "    elif count < count_thu[4]  and count >= count_thu[3]  :\n",
    "        if len(mon_hoc) > 2:\n",
    "            thu_hoc.append(mon_hoc)\n",
    "            count +=1\n",
    "            continue\n",
    "        elif len(mon_hoc) <3:\n",
    "            thu_hoc.append(0)\n",
    "            count += 1\n",
    "            continue\n",
    "    elif count < count_thu[5]  and count >= count_thu[4] :\n",
    "        if len(mon_hoc) > 2:\n",
    "            thu_hoc.append(mon_hoc)\n",
    "            count +=1\n",
    "            continue\n",
    "        elif len(mon_hoc) <3:\n",
    "            thu_hoc.append(0)\n",
    "            count += 1\n",
    "            continue\n",
    "    elif count < count_thu[6]  and count >= count_thu[5]  :\n",
    "        if len(mon_hoc) > 2:\n",
    "            thu_hoc.append(mon_hoc)\n",
    "            count +=1\n",
    "            continue\n",
    "        elif len(mon_hoc) <3:\n",
    "            thu_hoc.append(0)\n",
    "            count += 1\n",
    "            continue\n",
    "\n",
    "\n",
    "thoi_khoa_bieu_again = thoi_khoa_bieu[0:7]\n",
    "with open(\"thoi_kho_bieu_output.csv\", \"w\", encoding=\"utf-8\") as f:\n",
    "    headers = ['thu_2','thu_3','thu_4','thu_5','thu_6','thu_7', 'chu_nhat']\n",
    "    writer = csv.writer(f, delimiter=\",\")\n",
    "    writer.writerow(headers)\n",
    "    for i in thoi_khoa_bieu_again:\n",
    "        writer.writerow([i[0], i[1], i[2], i[3], i[4], i[5], i[6]])"
   ]
  },
  {
   "cell_type": "code",
   "execution_count": 66,
   "metadata": {},
   "outputs": [
    {
     "name": "stdout",
     "output_type": "stream",
     "text": [
      "[[' An toàn lao động và môi trường công nghiệp [2]15g10 -> 17g50Tiết 10-12 GV: Đặng Quang KhoaCơ sở: ĐH SPKT TpHCM', 0, 0, 0, 0, 0, 0], [0, ' Hành vi tổ chức [3]07g00 -> 09g40Tiết 1-3 GV: Nguyễn Đức TrungCơ sở: ĐH SPKT TpHCM', 0, '\\xa0 Xác suất – Thống kê ứng dụng [3]15g10 -> 17g50Tiết 10-12 GV: Nguyễn Văn ToảnCơ sở: ĐH SPKT TpHCM', 0, 0, 0], [0, 0, 0, ' Hệ thống hoạch định nguồn lực doanh nghiệp (ERP) [3]07g00 -> 10g30Tiết 1-4 GV: Nguyễn Phan Anh HuyCơ sở: ĐH SPKT TpHCM', 0, 0, 0], [0, 0, ' Hệ thống thông tin quản lý (MIS) [3]09g40 -> 12g20Tiết 4-6 GV: Nguyễn Phan Anh HuyCơ sở: ĐH SPKT TpHCM', 0, 0, 0, 0], [' Quản trị marketing [3]07g00 -> 09g40Tiết 1-3 GV: Vòng Thình NamCơ sở: ĐH SPKT TpHCM', 0, 0, 0, 0, 0, 0], [0, ' Quản trị sản xuất 2 [3]12g30 -> 15g10Tiết 7-9 GV: Nguyễn Thị Mai TrâmCơ sở: ĐH SPKT TpHCM', 0, 0, 0, 0, 0], [0, 0, 0, ' Thương mại điện tử [3]12g30 -> 15g10Tiết 7-9 GV: Nguyễn Thị HồngCơ sở: ĐH SPKT TpHCM', 0, 0, 0]]\n"
     ]
    }
   ],
   "source": [
    "print(thoi_khoa_bieu_again)\n"
   ]
  },
  {
   "cell_type": "code",
   "execution_count": null,
   "metadata": {},
   "outputs": [],
   "source": []
  },
  {
   "cell_type": "code",
   "execution_count": 68,
   "metadata": {},
   "outputs": [],
   "source": [
    "time_table = []\n",
    "count = 0\n",
    "# for i in info_tr:\n",
    "#     mon_hoc = i.get_text()\n",
    "#     time_table_temp = []\n",
    "#     for i in range(7):\n",
    "#         if len(mon_hoc) < 3:\n",
    "#             time_table_temp.append(mon_hoc)\n",
    "#         elif len(mon_hoc) > 4:\n",
    "#             time_table_temp.append(mon_hoc)\n",
    "#     time_table.append(time_table_temp)  \n",
    "def loc_mon_hoc (mon_hoc):\n",
    "    ten_mon_hoc = mon_hoc[0:mon_hoc.find(\"[\")]\n",
    "    gio_hoc = mon_hoc[mon_hoc.find(\"]\")+1:mon_hoc.find('Tiết')]\n",
    "    tiet_hoc = mon_hoc[mon_hoc.find('Tiết'):mon_hoc.find('GV')]\n",
    "    giang_vien =mon_hoc[mon_hoc.find(\"GV\"):mon_hoc.find('Cơ')]\n",
    "    mon_hoc = ten_mon_hoc +'\\n'+ gio_hoc+'\\n'+ tiet_hoc +'\\n'+ giang_vien\n",
    "    return mon_hoc\n",
    "    \n",
    "while count < len(info_tr):\n",
    "    time_table_temp = []\n",
    "    for i in  range(7):\n",
    "        mon_hoc = info_tr[count].get_text()\n",
    "        if len(mon_hoc) <= 3:\n",
    "            time_table_temp.append(0)\n",
    "            count += 1\n",
    "        elif len(mon_hoc) > 4:\n",
    "            time_table_temp.append(loc_mon_hoc(mon_hoc))\n",
    "            count+=1\n",
    "    time_table.append(time_table_temp)  "
   ]
  },
  {
   "cell_type": "code",
   "execution_count": 59,
   "metadata": {},
   "outputs": [
    {
     "name": "stdout",
     "output_type": "stream",
     "text": [
      "[[0, 0, 0, ' Anh văn 4 \\n15g10 -> 17g50\\nTiết 10-12 \\nGV: Lê Quốc Kiệt', 0, 0, 0], [0, 0, 0, 0, ' Hệ thống điện \\n07g00 -> 10g30\\nTiết 1-4 \\nGV: Bùi Văn Hiền', 0, 0], [0, 0, ' Lịch sử Đảng CSVN \\n10g40 -> 12g20\\nTiết 5-6 \\nGV: Lê Quang Chung', 0, 0, 0, 0], [' Lưới điện có nguồn phân tán (Micro grid) \\n18g00 -> 20g40\\nTiết 13-15 \\nGV: Nguyễn Bảo Quốc', 0, 0, 0, 0, 0, 0], [0, 0, 0, 0, ' TT điện và khí cụ điện \\n12g30 -> 17g50\\nTiết 7-12 \\nGV: Lê Bá Tân', '\\xa0 TT thiết bị chuyển đổi điện năng \\n07g00 -> 12g20\\nTiết 1-6 \\nGV: Nguyễn Thành Công', 0]]\n"
     ]
    }
   ],
   "source": [
    "print(time_table)"
   ]
  },
  {
   "cell_type": "markdown",
   "metadata": {},
   "source": []
  },
  {
   "cell_type": "code",
   "execution_count": 57,
   "metadata": {},
   "outputs": [
    {
     "name": "stdout",
     "output_type": "stream",
     "text": [
      "Anh văn 4 \n",
      "15g10 -> 17g50\n",
      "Tiết 10-12 \n",
      "GV: Lê Quốc Kiệt\n"
     ]
    }
   ],
   "source": [
    "text= 'Anh văn 4 [3]15g10 -> 17g50Tiết 10-12 GV: Lê Quốc KiệtCơ sở: ĐH SPKT TpHCM'\n",
    "ten_mon_hoc = text[0:text.find(\"[\")]\n",
    "gio_hoc = text[text.find(\"]\")+1:text.find('Tiết')]\n",
    "tiet_hoc = text[text.find('Tiết'):text.find('GV')]\n",
    "giang_vien =text[text.find(\"GV\"):text.find('Cơ')]\n",
    "mon_hoc = ten_mon_hoc +'\\n'+ gio_hoc+'\\n'+ tiet_hoc +'\\n'+ giang_vien\n",
    "print(mon_hoc)"
   ]
  },
  {
   "cell_type": "code",
   "execution_count": 26,
   "metadata": {},
   "outputs": [
    {
     "name": "stdout",
     "output_type": "stream",
     "text": [
      "[[0, 0, 0, ' Anh văn 4 [3]15g10 -> 17g50Tiết 10-12 GV: Lê Quốc KiệtCơ sở: ĐH SPKT TpHCM', 0, 0, 0], [0, 0, 0, 0, ' Hệ thống điện [4]07g00 -> 10g30Tiết 1-4 GV: Bùi Văn HiềnCơ sở: ĐH SPKT TpHCM', 0, 0], [0, 0, ' Lịch sử Đảng CSVN [2]10g40 -> 12g20Tiết 5-6 GV: Lê Quang ChungCơ sở: ĐH SPKT TpHCM', 0, 0, 0, 0], [' Lưới điện có nguồn phân tán (Micro grid) [3]18g00 -> 20g40Tiết 13-15 GV: Nguyễn Bảo QuốcCơ sở: ĐH SPKT TpHCM', 0, 0, 0, 0, 0, 0], [0, 0, 0, 0, ' TT điện và khí cụ điện [2]12g30 -> 17g50Tiết 7-12 GV: Lê Bá TânCơ sở: ĐH SPKT TpHCM', '\\xa0 TT thiết bị chuyển đổi điện năng [3]07g00 -> 12g20Tiết 1-6 GV: Nguyễn Thành CôngCơ sở: ĐH SPKT TpHCM TT thiết bị chuyển đổi điện năng [3]12g30 -> 17g50Tiết 7-12 GV: Nguyễn Thành CôngCơ sở: ĐH SPKT TpHCM', 0]]\n"
     ]
    }
   ],
   "source": [
    "print(time_table)"
   ]
  },
  {
   "cell_type": "code",
   "execution_count": null,
   "metadata": {},
   "outputs": [],
   "source": []
  },
  {
   "cell_type": "code",
   "execution_count": 69,
   "metadata": {},
   "outputs": [],
   "source": [
    "\n",
    "with open(\"thoi_kho_bieu_output.csv\", \"w\", encoding=\"utf-8\") as f:\n",
    "    headers = ['thu_2','thu_3','thu_4','thu_5','thu_6','thu_7', 'chu_nhat']\n",
    "    writer = csv.writer(f, delimiter=\",\")\n",
    "    writer.writerow(headers)\n",
    "    for i in time_table:\n",
    "         writer.writerow([i[0], i[1], i[2], i[3], i[4], i[5], i[6]])\n",
    "    "
   ]
  }
 ],
 "metadata": {
  "kernelspec": {
   "display_name": "Python 3.10.6 64-bit",
   "language": "python",
   "name": "python3"
  },
  "language_info": {
   "codemirror_mode": {
    "name": "ipython",
    "version": 3
   },
   "file_extension": ".py",
   "mimetype": "text/x-python",
   "name": "python",
   "nbconvert_exporter": "python",
   "pygments_lexer": "ipython3",
   "version": "3.10.6"
  },
  "orig_nbformat": 4,
  "vscode": {
   "interpreter": {
    "hash": "6032a964d752841e67551358ea0b83cf994834cf6f015161d2594d708b2ee1d6"
   }
  }
 },
 "nbformat": 4,
 "nbformat_minor": 2
}
